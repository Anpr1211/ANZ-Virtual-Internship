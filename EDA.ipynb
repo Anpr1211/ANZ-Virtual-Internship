{
 "cells": [
  {
   "cell_type": "code",
   "execution_count": 48,
   "metadata": {},
   "outputs": [],
   "source": [
    "import pandas as pd\n",
    "import matplotlib.pyplot as plt\n",
    "import numpy as np"
   ]
  },
  {
   "cell_type": "code",
   "execution_count": 202,
   "metadata": {},
   "outputs": [],
   "source": [
    "df = pd.read_excel(\"ANZ synthesised transaction dataset.xlsx\")"
   ]
  },
  {
   "cell_type": "code",
   "execution_count": 203,
   "metadata": {},
   "outputs": [
    {
     "data": {
      "text/html": [
       "<div>\n",
       "<style scoped>\n",
       "    .dataframe tbody tr th:only-of-type {\n",
       "        vertical-align: middle;\n",
       "    }\n",
       "\n",
       "    .dataframe tbody tr th {\n",
       "        vertical-align: top;\n",
       "    }\n",
       "\n",
       "    .dataframe thead th {\n",
       "        text-align: right;\n",
       "    }\n",
       "</style>\n",
       "<table border=\"1\" class=\"dataframe\">\n",
       "  <thead>\n",
       "    <tr style=\"text-align: right;\">\n",
       "      <th></th>\n",
       "      <th>status</th>\n",
       "      <th>card_present_flag</th>\n",
       "      <th>bpay_biller_code</th>\n",
       "      <th>account</th>\n",
       "      <th>currency</th>\n",
       "      <th>long_lat</th>\n",
       "      <th>txn_description</th>\n",
       "      <th>merchant_id</th>\n",
       "      <th>merchant_code</th>\n",
       "      <th>first_name</th>\n",
       "      <th>...</th>\n",
       "      <th>age</th>\n",
       "      <th>merchant_suburb</th>\n",
       "      <th>merchant_state</th>\n",
       "      <th>extraction</th>\n",
       "      <th>amount</th>\n",
       "      <th>transaction_id</th>\n",
       "      <th>country</th>\n",
       "      <th>customer_id</th>\n",
       "      <th>merchant_long_lat</th>\n",
       "      <th>movement</th>\n",
       "    </tr>\n",
       "  </thead>\n",
       "  <tbody>\n",
       "    <tr>\n",
       "      <th>0</th>\n",
       "      <td>authorized</td>\n",
       "      <td>1.0</td>\n",
       "      <td>NaN</td>\n",
       "      <td>ACC-1598451071</td>\n",
       "      <td>AUD</td>\n",
       "      <td>153.41 -27.95</td>\n",
       "      <td>POS</td>\n",
       "      <td>81c48296-73be-44a7-befa-d053f48ce7cd</td>\n",
       "      <td>NaN</td>\n",
       "      <td>Diana</td>\n",
       "      <td>...</td>\n",
       "      <td>26</td>\n",
       "      <td>Ashmore</td>\n",
       "      <td>QLD</td>\n",
       "      <td>2018-08-01T01:01:15.000+0000</td>\n",
       "      <td>16.25</td>\n",
       "      <td>a623070bfead4541a6b0fff8a09e706c</td>\n",
       "      <td>Australia</td>\n",
       "      <td>CUS-2487424745</td>\n",
       "      <td>153.38 -27.99</td>\n",
       "      <td>debit</td>\n",
       "    </tr>\n",
       "    <tr>\n",
       "      <th>1</th>\n",
       "      <td>authorized</td>\n",
       "      <td>0.0</td>\n",
       "      <td>NaN</td>\n",
       "      <td>ACC-1598451071</td>\n",
       "      <td>AUD</td>\n",
       "      <td>153.41 -27.95</td>\n",
       "      <td>SALES-POS</td>\n",
       "      <td>830a451c-316e-4a6a-bf25-e37caedca49e</td>\n",
       "      <td>NaN</td>\n",
       "      <td>Diana</td>\n",
       "      <td>...</td>\n",
       "      <td>26</td>\n",
       "      <td>Sydney</td>\n",
       "      <td>NSW</td>\n",
       "      <td>2018-08-01T01:13:45.000+0000</td>\n",
       "      <td>14.19</td>\n",
       "      <td>13270a2a902145da9db4c951e04b51b9</td>\n",
       "      <td>Australia</td>\n",
       "      <td>CUS-2487424745</td>\n",
       "      <td>151.21 -33.87</td>\n",
       "      <td>debit</td>\n",
       "    </tr>\n",
       "    <tr>\n",
       "      <th>2</th>\n",
       "      <td>authorized</td>\n",
       "      <td>1.0</td>\n",
       "      <td>NaN</td>\n",
       "      <td>ACC-1222300524</td>\n",
       "      <td>AUD</td>\n",
       "      <td>151.23 -33.94</td>\n",
       "      <td>POS</td>\n",
       "      <td>835c231d-8cdf-4e96-859d-e9d571760cf0</td>\n",
       "      <td>NaN</td>\n",
       "      <td>Michael</td>\n",
       "      <td>...</td>\n",
       "      <td>38</td>\n",
       "      <td>Sydney</td>\n",
       "      <td>NSW</td>\n",
       "      <td>2018-08-01T01:26:15.000+0000</td>\n",
       "      <td>6.42</td>\n",
       "      <td>feb79e7ecd7048a5a36ec889d1a94270</td>\n",
       "      <td>Australia</td>\n",
       "      <td>CUS-2142601169</td>\n",
       "      <td>151.21 -33.87</td>\n",
       "      <td>debit</td>\n",
       "    </tr>\n",
       "    <tr>\n",
       "      <th>3</th>\n",
       "      <td>authorized</td>\n",
       "      <td>1.0</td>\n",
       "      <td>NaN</td>\n",
       "      <td>ACC-1037050564</td>\n",
       "      <td>AUD</td>\n",
       "      <td>153.10 -27.66</td>\n",
       "      <td>SALES-POS</td>\n",
       "      <td>48514682-c78a-4a88-b0da-2d6302e64673</td>\n",
       "      <td>NaN</td>\n",
       "      <td>Rhonda</td>\n",
       "      <td>...</td>\n",
       "      <td>40</td>\n",
       "      <td>Buderim</td>\n",
       "      <td>QLD</td>\n",
       "      <td>2018-08-01T01:38:45.000+0000</td>\n",
       "      <td>40.90</td>\n",
       "      <td>2698170da3704fd981b15e64a006079e</td>\n",
       "      <td>Australia</td>\n",
       "      <td>CUS-1614226872</td>\n",
       "      <td>153.05 -26.68</td>\n",
       "      <td>debit</td>\n",
       "    </tr>\n",
       "    <tr>\n",
       "      <th>4</th>\n",
       "      <td>authorized</td>\n",
       "      <td>1.0</td>\n",
       "      <td>NaN</td>\n",
       "      <td>ACC-1598451071</td>\n",
       "      <td>AUD</td>\n",
       "      <td>153.41 -27.95</td>\n",
       "      <td>SALES-POS</td>\n",
       "      <td>b4e02c10-0852-4273-b8fd-7b3395e32eb0</td>\n",
       "      <td>NaN</td>\n",
       "      <td>Diana</td>\n",
       "      <td>...</td>\n",
       "      <td>26</td>\n",
       "      <td>Mermaid Beach</td>\n",
       "      <td>QLD</td>\n",
       "      <td>2018-08-01T01:51:15.000+0000</td>\n",
       "      <td>3.25</td>\n",
       "      <td>329adf79878c4cf0aeb4188b4691c266</td>\n",
       "      <td>Australia</td>\n",
       "      <td>CUS-2487424745</td>\n",
       "      <td>153.44 -28.06</td>\n",
       "      <td>debit</td>\n",
       "    </tr>\n",
       "  </tbody>\n",
       "</table>\n",
       "<p>5 rows × 23 columns</p>\n",
       "</div>"
      ],
      "text/plain": [
       "       status  card_present_flag bpay_biller_code         account currency  \\\n",
       "0  authorized                1.0              NaN  ACC-1598451071      AUD   \n",
       "1  authorized                0.0              NaN  ACC-1598451071      AUD   \n",
       "2  authorized                1.0              NaN  ACC-1222300524      AUD   \n",
       "3  authorized                1.0              NaN  ACC-1037050564      AUD   \n",
       "4  authorized                1.0              NaN  ACC-1598451071      AUD   \n",
       "\n",
       "        long_lat txn_description                           merchant_id  \\\n",
       "0  153.41 -27.95             POS  81c48296-73be-44a7-befa-d053f48ce7cd   \n",
       "1  153.41 -27.95       SALES-POS  830a451c-316e-4a6a-bf25-e37caedca49e   \n",
       "2  151.23 -33.94             POS  835c231d-8cdf-4e96-859d-e9d571760cf0   \n",
       "3  153.10 -27.66       SALES-POS  48514682-c78a-4a88-b0da-2d6302e64673   \n",
       "4  153.41 -27.95       SALES-POS  b4e02c10-0852-4273-b8fd-7b3395e32eb0   \n",
       "\n",
       "   merchant_code first_name  ...  age merchant_suburb merchant_state  \\\n",
       "0            NaN      Diana  ...   26         Ashmore            QLD   \n",
       "1            NaN      Diana  ...   26          Sydney            NSW   \n",
       "2            NaN    Michael  ...   38          Sydney            NSW   \n",
       "3            NaN     Rhonda  ...   40         Buderim            QLD   \n",
       "4            NaN      Diana  ...   26   Mermaid Beach            QLD   \n",
       "\n",
       "                     extraction amount                    transaction_id  \\\n",
       "0  2018-08-01T01:01:15.000+0000  16.25  a623070bfead4541a6b0fff8a09e706c   \n",
       "1  2018-08-01T01:13:45.000+0000  14.19  13270a2a902145da9db4c951e04b51b9   \n",
       "2  2018-08-01T01:26:15.000+0000   6.42  feb79e7ecd7048a5a36ec889d1a94270   \n",
       "3  2018-08-01T01:38:45.000+0000  40.90  2698170da3704fd981b15e64a006079e   \n",
       "4  2018-08-01T01:51:15.000+0000   3.25  329adf79878c4cf0aeb4188b4691c266   \n",
       "\n",
       "     country     customer_id merchant_long_lat movement  \n",
       "0  Australia  CUS-2487424745     153.38 -27.99    debit  \n",
       "1  Australia  CUS-2487424745     151.21 -33.87    debit  \n",
       "2  Australia  CUS-2142601169     151.21 -33.87    debit  \n",
       "3  Australia  CUS-1614226872     153.05 -26.68    debit  \n",
       "4  Australia  CUS-2487424745     153.44 -28.06    debit  \n",
       "\n",
       "[5 rows x 23 columns]"
      ]
     },
     "execution_count": 203,
     "metadata": {},
     "output_type": "execute_result"
    }
   ],
   "source": [
    "df.head()"
   ]
  },
  {
   "cell_type": "code",
   "execution_count": 204,
   "metadata": {},
   "outputs": [
    {
     "name": "stdout",
     "output_type": "stream",
     "text": [
      "<class 'pandas.core.frame.DataFrame'>\n",
      "RangeIndex: 12043 entries, 0 to 12042\n",
      "Data columns (total 23 columns):\n",
      " #   Column             Non-Null Count  Dtype         \n",
      "---  ------             --------------  -----         \n",
      " 0   status             12043 non-null  object        \n",
      " 1   card_present_flag  7717 non-null   float64       \n",
      " 2   bpay_biller_code   885 non-null    object        \n",
      " 3   account            12043 non-null  object        \n",
      " 4   currency           12043 non-null  object        \n",
      " 5   long_lat           12043 non-null  object        \n",
      " 6   txn_description    12043 non-null  object        \n",
      " 7   merchant_id        7717 non-null   object        \n",
      " 8   merchant_code      883 non-null    float64       \n",
      " 9   first_name         12043 non-null  object        \n",
      " 10  balance            12043 non-null  float64       \n",
      " 11  date               12043 non-null  datetime64[ns]\n",
      " 12  gender             12043 non-null  object        \n",
      " 13  age                12043 non-null  int64         \n",
      " 14  merchant_suburb    7717 non-null   object        \n",
      " 15  merchant_state     7717 non-null   object        \n",
      " 16  extraction         12043 non-null  object        \n",
      " 17  amount             12043 non-null  float64       \n",
      " 18  transaction_id     12043 non-null  object        \n",
      " 19  country            12043 non-null  object        \n",
      " 20  customer_id        12043 non-null  object        \n",
      " 21  merchant_long_lat  7717 non-null   object        \n",
      " 22  movement           12043 non-null  object        \n",
      "dtypes: datetime64[ns](1), float64(4), int64(1), object(17)\n",
      "memory usage: 2.1+ MB\n"
     ]
    }
   ],
   "source": [
    "df.info()"
   ]
  },
  {
   "cell_type": "code",
   "execution_count": 205,
   "metadata": {},
   "outputs": [
    {
     "data": {
      "text/html": [
       "<div>\n",
       "<style scoped>\n",
       "    .dataframe tbody tr th:only-of-type {\n",
       "        vertical-align: middle;\n",
       "    }\n",
       "\n",
       "    .dataframe tbody tr th {\n",
       "        vertical-align: top;\n",
       "    }\n",
       "\n",
       "    .dataframe thead th {\n",
       "        text-align: right;\n",
       "    }\n",
       "</style>\n",
       "<table border=\"1\" class=\"dataframe\">\n",
       "  <thead>\n",
       "    <tr style=\"text-align: right;\">\n",
       "      <th></th>\n",
       "      <th>card_present_flag</th>\n",
       "      <th>merchant_code</th>\n",
       "      <th>balance</th>\n",
       "      <th>age</th>\n",
       "      <th>amount</th>\n",
       "    </tr>\n",
       "  </thead>\n",
       "  <tbody>\n",
       "    <tr>\n",
       "      <th>count</th>\n",
       "      <td>7717.000000</td>\n",
       "      <td>883.0</td>\n",
       "      <td>12043.000000</td>\n",
       "      <td>12043.000000</td>\n",
       "      <td>12043.000000</td>\n",
       "    </tr>\n",
       "    <tr>\n",
       "      <th>mean</th>\n",
       "      <td>0.802644</td>\n",
       "      <td>0.0</td>\n",
       "      <td>14704.195553</td>\n",
       "      <td>30.582330</td>\n",
       "      <td>187.933588</td>\n",
       "    </tr>\n",
       "    <tr>\n",
       "      <th>std</th>\n",
       "      <td>0.398029</td>\n",
       "      <td>0.0</td>\n",
       "      <td>31503.722652</td>\n",
       "      <td>10.046343</td>\n",
       "      <td>592.599934</td>\n",
       "    </tr>\n",
       "    <tr>\n",
       "      <th>min</th>\n",
       "      <td>0.000000</td>\n",
       "      <td>0.0</td>\n",
       "      <td>0.240000</td>\n",
       "      <td>18.000000</td>\n",
       "      <td>0.100000</td>\n",
       "    </tr>\n",
       "    <tr>\n",
       "      <th>25%</th>\n",
       "      <td>1.000000</td>\n",
       "      <td>0.0</td>\n",
       "      <td>3158.585000</td>\n",
       "      <td>22.000000</td>\n",
       "      <td>16.000000</td>\n",
       "    </tr>\n",
       "    <tr>\n",
       "      <th>50%</th>\n",
       "      <td>1.000000</td>\n",
       "      <td>0.0</td>\n",
       "      <td>6432.010000</td>\n",
       "      <td>28.000000</td>\n",
       "      <td>29.000000</td>\n",
       "    </tr>\n",
       "    <tr>\n",
       "      <th>75%</th>\n",
       "      <td>1.000000</td>\n",
       "      <td>0.0</td>\n",
       "      <td>12465.945000</td>\n",
       "      <td>38.000000</td>\n",
       "      <td>53.655000</td>\n",
       "    </tr>\n",
       "    <tr>\n",
       "      <th>max</th>\n",
       "      <td>1.000000</td>\n",
       "      <td>0.0</td>\n",
       "      <td>267128.520000</td>\n",
       "      <td>78.000000</td>\n",
       "      <td>8835.980000</td>\n",
       "    </tr>\n",
       "  </tbody>\n",
       "</table>\n",
       "</div>"
      ],
      "text/plain": [
       "       card_present_flag  merchant_code        balance           age  \\\n",
       "count        7717.000000          883.0   12043.000000  12043.000000   \n",
       "mean            0.802644            0.0   14704.195553     30.582330   \n",
       "std             0.398029            0.0   31503.722652     10.046343   \n",
       "min             0.000000            0.0       0.240000     18.000000   \n",
       "25%             1.000000            0.0    3158.585000     22.000000   \n",
       "50%             1.000000            0.0    6432.010000     28.000000   \n",
       "75%             1.000000            0.0   12465.945000     38.000000   \n",
       "max             1.000000            0.0  267128.520000     78.000000   \n",
       "\n",
       "             amount  \n",
       "count  12043.000000  \n",
       "mean     187.933588  \n",
       "std      592.599934  \n",
       "min        0.100000  \n",
       "25%       16.000000  \n",
       "50%       29.000000  \n",
       "75%       53.655000  \n",
       "max     8835.980000  "
      ]
     },
     "execution_count": 205,
     "metadata": {},
     "output_type": "execute_result"
    }
   ],
   "source": [
    "df.describe()"
   ]
  },
  {
   "cell_type": "markdown",
   "metadata": {},
   "source": [
    "The median measures should be used due to the presence of outliers. \n",
    "\n",
    "Median balance - 6432\n",
    "\n",
    "Median amount - 29"
   ]
  },
  {
   "cell_type": "code",
   "execution_count": 188,
   "metadata": {},
   "outputs": [
    {
     "data": {
      "text/html": [
       "<div>\n",
       "<style scoped>\n",
       "    .dataframe tbody tr th:only-of-type {\n",
       "        vertical-align: middle;\n",
       "    }\n",
       "\n",
       "    .dataframe tbody tr th {\n",
       "        vertical-align: top;\n",
       "    }\n",
       "\n",
       "    .dataframe thead th {\n",
       "        text-align: right;\n",
       "    }\n",
       "</style>\n",
       "<table border=\"1\" class=\"dataframe\">\n",
       "  <thead>\n",
       "    <tr style=\"text-align: right;\">\n",
       "      <th></th>\n",
       "      <th>status</th>\n",
       "      <th>card_present_flag</th>\n",
       "      <th>account</th>\n",
       "      <th>long_lat</th>\n",
       "      <th>txn_description</th>\n",
       "      <th>merchant_id</th>\n",
       "      <th>merchant_code</th>\n",
       "      <th>balance</th>\n",
       "      <th>date</th>\n",
       "      <th>gender</th>\n",
       "      <th>age</th>\n",
       "      <th>merchant_suburb</th>\n",
       "      <th>merchant_state</th>\n",
       "      <th>extraction</th>\n",
       "      <th>amount</th>\n",
       "      <th>transaction_id</th>\n",
       "      <th>merchant_long_lat</th>\n",
       "      <th>movement</th>\n",
       "    </tr>\n",
       "  </thead>\n",
       "  <tbody>\n",
       "    <tr>\n",
       "      <th>0</th>\n",
       "      <td>authorized</td>\n",
       "      <td>1.0</td>\n",
       "      <td>ACC-1598451071</td>\n",
       "      <td>153.41 -27.95</td>\n",
       "      <td>POS</td>\n",
       "      <td>81c48296-73be-44a7-befa-d053f48ce7cd</td>\n",
       "      <td>NaN</td>\n",
       "      <td>35.39</td>\n",
       "      <td>2018-08-01</td>\n",
       "      <td>F</td>\n",
       "      <td>26</td>\n",
       "      <td>Ashmore</td>\n",
       "      <td>QLD</td>\n",
       "      <td>2018-08-01T01:01:15.000+0000</td>\n",
       "      <td>16.25</td>\n",
       "      <td>a623070bfead4541a6b0fff8a09e706c</td>\n",
       "      <td>153.38 -27.99</td>\n",
       "      <td>debit</td>\n",
       "    </tr>\n",
       "    <tr>\n",
       "      <th>1</th>\n",
       "      <td>authorized</td>\n",
       "      <td>0.0</td>\n",
       "      <td>ACC-1598451071</td>\n",
       "      <td>153.41 -27.95</td>\n",
       "      <td>SALES-POS</td>\n",
       "      <td>830a451c-316e-4a6a-bf25-e37caedca49e</td>\n",
       "      <td>NaN</td>\n",
       "      <td>21.20</td>\n",
       "      <td>2018-08-01</td>\n",
       "      <td>F</td>\n",
       "      <td>26</td>\n",
       "      <td>Sydney</td>\n",
       "      <td>NSW</td>\n",
       "      <td>2018-08-01T01:13:45.000+0000</td>\n",
       "      <td>14.19</td>\n",
       "      <td>13270a2a902145da9db4c951e04b51b9</td>\n",
       "      <td>151.21 -33.87</td>\n",
       "      <td>debit</td>\n",
       "    </tr>\n",
       "    <tr>\n",
       "      <th>2</th>\n",
       "      <td>authorized</td>\n",
       "      <td>1.0</td>\n",
       "      <td>ACC-1222300524</td>\n",
       "      <td>151.23 -33.94</td>\n",
       "      <td>POS</td>\n",
       "      <td>835c231d-8cdf-4e96-859d-e9d571760cf0</td>\n",
       "      <td>NaN</td>\n",
       "      <td>5.71</td>\n",
       "      <td>2018-08-01</td>\n",
       "      <td>M</td>\n",
       "      <td>38</td>\n",
       "      <td>Sydney</td>\n",
       "      <td>NSW</td>\n",
       "      <td>2018-08-01T01:26:15.000+0000</td>\n",
       "      <td>6.42</td>\n",
       "      <td>feb79e7ecd7048a5a36ec889d1a94270</td>\n",
       "      <td>151.21 -33.87</td>\n",
       "      <td>debit</td>\n",
       "    </tr>\n",
       "    <tr>\n",
       "      <th>3</th>\n",
       "      <td>authorized</td>\n",
       "      <td>1.0</td>\n",
       "      <td>ACC-1037050564</td>\n",
       "      <td>153.10 -27.66</td>\n",
       "      <td>SALES-POS</td>\n",
       "      <td>48514682-c78a-4a88-b0da-2d6302e64673</td>\n",
       "      <td>NaN</td>\n",
       "      <td>2117.22</td>\n",
       "      <td>2018-08-01</td>\n",
       "      <td>F</td>\n",
       "      <td>40</td>\n",
       "      <td>Buderim</td>\n",
       "      <td>QLD</td>\n",
       "      <td>2018-08-01T01:38:45.000+0000</td>\n",
       "      <td>40.90</td>\n",
       "      <td>2698170da3704fd981b15e64a006079e</td>\n",
       "      <td>153.05 -26.68</td>\n",
       "      <td>debit</td>\n",
       "    </tr>\n",
       "    <tr>\n",
       "      <th>4</th>\n",
       "      <td>authorized</td>\n",
       "      <td>1.0</td>\n",
       "      <td>ACC-1598451071</td>\n",
       "      <td>153.41 -27.95</td>\n",
       "      <td>SALES-POS</td>\n",
       "      <td>b4e02c10-0852-4273-b8fd-7b3395e32eb0</td>\n",
       "      <td>NaN</td>\n",
       "      <td>17.95</td>\n",
       "      <td>2018-08-01</td>\n",
       "      <td>F</td>\n",
       "      <td>26</td>\n",
       "      <td>Mermaid Beach</td>\n",
       "      <td>QLD</td>\n",
       "      <td>2018-08-01T01:51:15.000+0000</td>\n",
       "      <td>3.25</td>\n",
       "      <td>329adf79878c4cf0aeb4188b4691c266</td>\n",
       "      <td>153.44 -28.06</td>\n",
       "      <td>debit</td>\n",
       "    </tr>\n",
       "  </tbody>\n",
       "</table>\n",
       "</div>"
      ],
      "text/plain": [
       "       status  card_present_flag         account       long_lat  \\\n",
       "0  authorized                1.0  ACC-1598451071  153.41 -27.95   \n",
       "1  authorized                0.0  ACC-1598451071  153.41 -27.95   \n",
       "2  authorized                1.0  ACC-1222300524  151.23 -33.94   \n",
       "3  authorized                1.0  ACC-1037050564  153.10 -27.66   \n",
       "4  authorized                1.0  ACC-1598451071  153.41 -27.95   \n",
       "\n",
       "  txn_description                           merchant_id  merchant_code  \\\n",
       "0             POS  81c48296-73be-44a7-befa-d053f48ce7cd            NaN   \n",
       "1       SALES-POS  830a451c-316e-4a6a-bf25-e37caedca49e            NaN   \n",
       "2             POS  835c231d-8cdf-4e96-859d-e9d571760cf0            NaN   \n",
       "3       SALES-POS  48514682-c78a-4a88-b0da-2d6302e64673            NaN   \n",
       "4       SALES-POS  b4e02c10-0852-4273-b8fd-7b3395e32eb0            NaN   \n",
       "\n",
       "   balance       date gender  age merchant_suburb merchant_state  \\\n",
       "0    35.39 2018-08-01      F   26         Ashmore            QLD   \n",
       "1    21.20 2018-08-01      F   26          Sydney            NSW   \n",
       "2     5.71 2018-08-01      M   38          Sydney            NSW   \n",
       "3  2117.22 2018-08-01      F   40         Buderim            QLD   \n",
       "4    17.95 2018-08-01      F   26   Mermaid Beach            QLD   \n",
       "\n",
       "                     extraction  amount                    transaction_id  \\\n",
       "0  2018-08-01T01:01:15.000+0000   16.25  a623070bfead4541a6b0fff8a09e706c   \n",
       "1  2018-08-01T01:13:45.000+0000   14.19  13270a2a902145da9db4c951e04b51b9   \n",
       "2  2018-08-01T01:26:15.000+0000    6.42  feb79e7ecd7048a5a36ec889d1a94270   \n",
       "3  2018-08-01T01:38:45.000+0000   40.90  2698170da3704fd981b15e64a006079e   \n",
       "4  2018-08-01T01:51:15.000+0000    3.25  329adf79878c4cf0aeb4188b4691c266   \n",
       "\n",
       "  merchant_long_lat movement  \n",
       "0     153.38 -27.99    debit  \n",
       "1     151.21 -33.87    debit  \n",
       "2     151.21 -33.87    debit  \n",
       "3     153.05 -26.68    debit  \n",
       "4     153.44 -28.06    debit  "
      ]
     },
     "execution_count": 188,
     "metadata": {},
     "output_type": "execute_result"
    }
   ],
   "source": [
    "df = df.drop([\"bpay_biller_code\", \"currency\", \"first_name\", \"transaction_id\", \"country\", \"customer_id\"], axis=1)\n",
    "\n",
    "df.head()"
   ]
  },
  {
   "cell_type": "markdown",
   "metadata": {},
   "source": [
    "Columns which are of no use are deleted."
   ]
  },
  {
   "cell_type": "code",
   "execution_count": 207,
   "metadata": {},
   "outputs": [],
   "source": [
    "df.extraction = pd.to_datetime(df.extraction)"
   ]
  },
  {
   "cell_type": "code",
   "execution_count": 208,
   "metadata": {},
   "outputs": [
    {
     "data": {
      "text/html": [
       "<div>\n",
       "<style scoped>\n",
       "    .dataframe tbody tr th:only-of-type {\n",
       "        vertical-align: middle;\n",
       "    }\n",
       "\n",
       "    .dataframe tbody tr th {\n",
       "        vertical-align: top;\n",
       "    }\n",
       "\n",
       "    .dataframe thead th {\n",
       "        text-align: right;\n",
       "    }\n",
       "</style>\n",
       "<table border=\"1\" class=\"dataframe\">\n",
       "  <thead>\n",
       "    <tr style=\"text-align: right;\">\n",
       "      <th></th>\n",
       "      <th>card_present_flag</th>\n",
       "      <th>merchant_code</th>\n",
       "      <th>balance</th>\n",
       "      <th>age</th>\n",
       "      <th>amount</th>\n",
       "    </tr>\n",
       "  </thead>\n",
       "  <tbody>\n",
       "    <tr>\n",
       "      <th>count</th>\n",
       "      <td>2535.000000</td>\n",
       "      <td>298.0</td>\n",
       "      <td>3943.000000</td>\n",
       "      <td>3943.000000</td>\n",
       "      <td>3943.000000</td>\n",
       "    </tr>\n",
       "    <tr>\n",
       "      <th>mean</th>\n",
       "      <td>0.805128</td>\n",
       "      <td>0.0</td>\n",
       "      <td>10794.148620</td>\n",
       "      <td>30.482881</td>\n",
       "      <td>185.121867</td>\n",
       "    </tr>\n",
       "    <tr>\n",
       "      <th>std</th>\n",
       "      <td>0.396180</td>\n",
       "      <td>0.0</td>\n",
       "      <td>27731.869137</td>\n",
       "      <td>10.306768</td>\n",
       "      <td>579.376003</td>\n",
       "    </tr>\n",
       "    <tr>\n",
       "      <th>min</th>\n",
       "      <td>0.000000</td>\n",
       "      <td>0.0</td>\n",
       "      <td>0.240000</td>\n",
       "      <td>18.000000</td>\n",
       "      <td>1.520000</td>\n",
       "    </tr>\n",
       "    <tr>\n",
       "      <th>25%</th>\n",
       "      <td>1.000000</td>\n",
       "      <td>0.0</td>\n",
       "      <td>1646.385000</td>\n",
       "      <td>22.000000</td>\n",
       "      <td>15.455000</td>\n",
       "    </tr>\n",
       "    <tr>\n",
       "      <th>50%</th>\n",
       "      <td>1.000000</td>\n",
       "      <td>0.0</td>\n",
       "      <td>3156.410000</td>\n",
       "      <td>27.000000</td>\n",
       "      <td>28.130000</td>\n",
       "    </tr>\n",
       "    <tr>\n",
       "      <th>75%</th>\n",
       "      <td>1.000000</td>\n",
       "      <td>0.0</td>\n",
       "      <td>6885.725000</td>\n",
       "      <td>38.000000</td>\n",
       "      <td>51.425000</td>\n",
       "    </tr>\n",
       "    <tr>\n",
       "      <th>max</th>\n",
       "      <td>1.000000</td>\n",
       "      <td>0.0</td>\n",
       "      <td>262153.860000</td>\n",
       "      <td>78.000000</td>\n",
       "      <td>8835.980000</td>\n",
       "    </tr>\n",
       "  </tbody>\n",
       "</table>\n",
       "</div>"
      ],
      "text/plain": [
       "       card_present_flag  merchant_code        balance          age  \\\n",
       "count        2535.000000          298.0    3943.000000  3943.000000   \n",
       "mean            0.805128            0.0   10794.148620    30.482881   \n",
       "std             0.396180            0.0   27731.869137    10.306768   \n",
       "min             0.000000            0.0       0.240000    18.000000   \n",
       "25%             1.000000            0.0    1646.385000    22.000000   \n",
       "50%             1.000000            0.0    3156.410000    27.000000   \n",
       "75%             1.000000            0.0    6885.725000    38.000000   \n",
       "max             1.000000            0.0  262153.860000    78.000000   \n",
       "\n",
       "            amount  \n",
       "count  3943.000000  \n",
       "mean    185.121867  \n",
       "std     579.376003  \n",
       "min       1.520000  \n",
       "25%      15.455000  \n",
       "50%      28.130000  \n",
       "75%      51.425000  \n",
       "max    8835.980000  "
      ]
     },
     "execution_count": 208,
     "metadata": {},
     "output_type": "execute_result"
    }
   ],
   "source": [
    "df_aug = df[(df['date'] >= '2018-08-01') & (df['date'] < '2018-09-01')]\n",
    "\n",
    "df_aug.describe()"
   ]
  },
  {
   "cell_type": "markdown",
   "metadata": {},
   "source": [
    "For the month of August, median balance = 3156 and median amount = 28"
   ]
  },
  {
   "cell_type": "code",
   "execution_count": 209,
   "metadata": {},
   "outputs": [
    {
     "data": {
      "text/html": [
       "<div>\n",
       "<style scoped>\n",
       "    .dataframe tbody tr th:only-of-type {\n",
       "        vertical-align: middle;\n",
       "    }\n",
       "\n",
       "    .dataframe tbody tr th {\n",
       "        vertical-align: top;\n",
       "    }\n",
       "\n",
       "    .dataframe thead th {\n",
       "        text-align: right;\n",
       "    }\n",
       "</style>\n",
       "<table border=\"1\" class=\"dataframe\">\n",
       "  <thead>\n",
       "    <tr style=\"text-align: right;\">\n",
       "      <th></th>\n",
       "      <th>card_present_flag</th>\n",
       "      <th>merchant_code</th>\n",
       "      <th>balance</th>\n",
       "      <th>age</th>\n",
       "      <th>amount</th>\n",
       "    </tr>\n",
       "  </thead>\n",
       "  <tbody>\n",
       "    <tr>\n",
       "      <th>count</th>\n",
       "      <td>2601.000000</td>\n",
       "      <td>272.0</td>\n",
       "      <td>4013.000000</td>\n",
       "      <td>4013.000000</td>\n",
       "      <td>4013.000000</td>\n",
       "    </tr>\n",
       "    <tr>\n",
       "      <th>mean</th>\n",
       "      <td>0.799308</td>\n",
       "      <td>0.0</td>\n",
       "      <td>14730.151136</td>\n",
       "      <td>30.533516</td>\n",
       "      <td>182.045903</td>\n",
       "    </tr>\n",
       "    <tr>\n",
       "      <th>std</th>\n",
       "      <td>0.400595</td>\n",
       "      <td>0.0</td>\n",
       "      <td>31502.648905</td>\n",
       "      <td>9.930852</td>\n",
       "      <td>574.694422</td>\n",
       "    </tr>\n",
       "    <tr>\n",
       "      <th>min</th>\n",
       "      <td>0.000000</td>\n",
       "      <td>0.0</td>\n",
       "      <td>0.980000</td>\n",
       "      <td>18.000000</td>\n",
       "      <td>0.100000</td>\n",
       "    </tr>\n",
       "    <tr>\n",
       "      <th>25%</th>\n",
       "      <td>1.000000</td>\n",
       "      <td>0.0</td>\n",
       "      <td>3884.040000</td>\n",
       "      <td>22.000000</td>\n",
       "      <td>16.090000</td>\n",
       "    </tr>\n",
       "    <tr>\n",
       "      <th>50%</th>\n",
       "      <td>1.000000</td>\n",
       "      <td>0.0</td>\n",
       "      <td>6502.780000</td>\n",
       "      <td>28.000000</td>\n",
       "      <td>29.000000</td>\n",
       "    </tr>\n",
       "    <tr>\n",
       "      <th>75%</th>\n",
       "      <td>1.000000</td>\n",
       "      <td>0.0</td>\n",
       "      <td>11686.430000</td>\n",
       "      <td>38.000000</td>\n",
       "      <td>54.400000</td>\n",
       "    </tr>\n",
       "    <tr>\n",
       "      <th>max</th>\n",
       "      <td>1.000000</td>\n",
       "      <td>0.0</td>\n",
       "      <td>264519.110000</td>\n",
       "      <td>78.000000</td>\n",
       "      <td>8835.980000</td>\n",
       "    </tr>\n",
       "  </tbody>\n",
       "</table>\n",
       "</div>"
      ],
      "text/plain": [
       "       card_present_flag  merchant_code        balance          age  \\\n",
       "count        2601.000000          272.0    4013.000000  4013.000000   \n",
       "mean            0.799308            0.0   14730.151136    30.533516   \n",
       "std             0.400595            0.0   31502.648905     9.930852   \n",
       "min             0.000000            0.0       0.980000    18.000000   \n",
       "25%             1.000000            0.0    3884.040000    22.000000   \n",
       "50%             1.000000            0.0    6502.780000    28.000000   \n",
       "75%             1.000000            0.0   11686.430000    38.000000   \n",
       "max             1.000000            0.0  264519.110000    78.000000   \n",
       "\n",
       "            amount  \n",
       "count  4013.000000  \n",
       "mean    182.045903  \n",
       "std     574.694422  \n",
       "min       0.100000  \n",
       "25%      16.090000  \n",
       "50%      29.000000  \n",
       "75%      54.400000  \n",
       "max    8835.980000  "
      ]
     },
     "execution_count": 209,
     "metadata": {},
     "output_type": "execute_result"
    }
   ],
   "source": [
    "df_sept= df[(df['date'] >= '2018-09-01') & (df['date'] < '2018-10-01')]\n",
    "\n",
    "df_sept.describe()"
   ]
  },
  {
   "cell_type": "markdown",
   "metadata": {},
   "source": [
    "For the month of September, median balance = 6503 and median amount = 29\n"
   ]
  },
  {
   "cell_type": "code",
   "execution_count": 210,
   "metadata": {},
   "outputs": [
    {
     "data": {
      "text/html": [
       "<div>\n",
       "<style scoped>\n",
       "    .dataframe tbody tr th:only-of-type {\n",
       "        vertical-align: middle;\n",
       "    }\n",
       "\n",
       "    .dataframe tbody tr th {\n",
       "        vertical-align: top;\n",
       "    }\n",
       "\n",
       "    .dataframe thead th {\n",
       "        text-align: right;\n",
       "    }\n",
       "</style>\n",
       "<table border=\"1\" class=\"dataframe\">\n",
       "  <thead>\n",
       "    <tr style=\"text-align: right;\">\n",
       "      <th></th>\n",
       "      <th>card_present_flag</th>\n",
       "      <th>merchant_code</th>\n",
       "      <th>balance</th>\n",
       "      <th>age</th>\n",
       "      <th>amount</th>\n",
       "    </tr>\n",
       "  </thead>\n",
       "  <tbody>\n",
       "    <tr>\n",
       "      <th>count</th>\n",
       "      <td>2581.000000</td>\n",
       "      <td>313.0</td>\n",
       "      <td>4087.000000</td>\n",
       "      <td>4087.000000</td>\n",
       "      <td>4087.000000</td>\n",
       "    </tr>\n",
       "    <tr>\n",
       "      <th>mean</th>\n",
       "      <td>0.803565</td>\n",
       "      <td>0.0</td>\n",
       "      <td>18450.991566</td>\n",
       "      <td>30.726205</td>\n",
       "      <td>196.427323</td>\n",
       "    </tr>\n",
       "    <tr>\n",
       "      <th>std</th>\n",
       "      <td>0.397379</td>\n",
       "      <td>0.0</td>\n",
       "      <td>34348.138841</td>\n",
       "      <td>9.904421</td>\n",
       "      <td>621.857821</td>\n",
       "    </tr>\n",
       "    <tr>\n",
       "      <th>min</th>\n",
       "      <td>0.000000</td>\n",
       "      <td>0.0</td>\n",
       "      <td>559.100000</td>\n",
       "      <td>18.000000</td>\n",
       "      <td>0.100000</td>\n",
       "    </tr>\n",
       "    <tr>\n",
       "      <th>25%</th>\n",
       "      <td>1.000000</td>\n",
       "      <td>0.0</td>\n",
       "      <td>5720.805000</td>\n",
       "      <td>24.000000</td>\n",
       "      <td>16.390000</td>\n",
       "    </tr>\n",
       "    <tr>\n",
       "      <th>50%</th>\n",
       "      <td>1.000000</td>\n",
       "      <td>0.0</td>\n",
       "      <td>9297.360000</td>\n",
       "      <td>28.000000</td>\n",
       "      <td>29.000000</td>\n",
       "    </tr>\n",
       "    <tr>\n",
       "      <th>75%</th>\n",
       "      <td>1.000000</td>\n",
       "      <td>0.0</td>\n",
       "      <td>17165.025000</td>\n",
       "      <td>38.000000</td>\n",
       "      <td>55.000000</td>\n",
       "    </tr>\n",
       "    <tr>\n",
       "      <th>max</th>\n",
       "      <td>1.000000</td>\n",
       "      <td>0.0</td>\n",
       "      <td>267128.520000</td>\n",
       "      <td>78.000000</td>\n",
       "      <td>8835.980000</td>\n",
       "    </tr>\n",
       "  </tbody>\n",
       "</table>\n",
       "</div>"
      ],
      "text/plain": [
       "       card_present_flag  merchant_code        balance          age  \\\n",
       "count        2581.000000          313.0    4087.000000  4087.000000   \n",
       "mean            0.803565            0.0   18450.991566    30.726205   \n",
       "std             0.397379            0.0   34348.138841     9.904421   \n",
       "min             0.000000            0.0     559.100000    18.000000   \n",
       "25%             1.000000            0.0    5720.805000    24.000000   \n",
       "50%             1.000000            0.0    9297.360000    28.000000   \n",
       "75%             1.000000            0.0   17165.025000    38.000000   \n",
       "max             1.000000            0.0  267128.520000    78.000000   \n",
       "\n",
       "            amount  \n",
       "count  4087.000000  \n",
       "mean    196.427323  \n",
       "std     621.857821  \n",
       "min       0.100000  \n",
       "25%      16.390000  \n",
       "50%      29.000000  \n",
       "75%      55.000000  \n",
       "max    8835.980000  "
      ]
     },
     "execution_count": 210,
     "metadata": {},
     "output_type": "execute_result"
    }
   ],
   "source": [
    "df_oct = df[(df['date'] >= '2018-10-01') & (df['date'] < '2018-11-01')]\n",
    "\n",
    "df_oct.describe()"
   ]
  },
  {
   "cell_type": "markdown",
   "metadata": {},
   "source": [
    "For the month of August, median balance = 9297 and median amount = 29\n"
   ]
  },
  {
   "cell_type": "code",
   "execution_count": 214,
   "metadata": {},
   "outputs": [
    {
     "name": "stdout",
     "output_type": "stream",
     "text": [
      "txn_description\n",
      "INTER BANK     240\n",
      "PAY/SALARY     298\n",
      "PAYMENT        837\n",
      "PHONE BANK      33\n",
      "POS           1226\n",
      "SALES-POS     1309\n",
      "Name: amount, dtype: int64\n",
      "txn_description\n",
      "INTER BANK     240\n",
      "PAY/SALARY     272\n",
      "PAYMENT        867\n",
      "PHONE BANK      33\n",
      "POS           1294\n",
      "SALES-POS     1307\n",
      "Name: amount, dtype: int64\n",
      "txn_description\n",
      "INTER BANK     262\n",
      "PAY/SALARY     313\n",
      "PAYMENT        896\n",
      "PHONE BANK      35\n",
      "POS           1263\n",
      "SALES-POS     1318\n",
      "Name: amount, dtype: int64\n"
     ]
    }
   ],
   "source": [
    "print(df_aug.amount.groupby(df_aug[\"txn_description\"]).count())\n",
    "print(df_sept.amount.groupby(df_sept[\"txn_description\"]).count())\n",
    "print(df_oct.amount.groupby(df_oct[\"txn_description\"]).count())"
   ]
  },
  {
   "cell_type": "code",
   "execution_count": 222,
   "metadata": {},
   "outputs": [
    {
     "data": {
      "text/plain": [
       "count    100.000000\n",
       "mean      39.430000\n",
       "std       24.639729\n",
       "min        3.000000\n",
       "25%       24.750000\n",
       "50%       33.000000\n",
       "75%       48.250000\n",
       "max      187.000000\n",
       "Name: account, dtype: float64"
      ]
     },
     "execution_count": 222,
     "metadata": {},
     "output_type": "execute_result"
    }
   ],
   "source": [
    "df_aug.account.value_counts().describe()"
   ]
  },
  {
   "cell_type": "code",
   "execution_count": 223,
   "metadata": {},
   "outputs": [
    {
     "data": {
      "text/plain": [
       "Text(0, 0.5, 'Freq')"
      ]
     },
     "execution_count": 223,
     "metadata": {},
     "output_type": "execute_result"
    },
    {
     "data": {
      "image/png": "[encoded data removed]",
      "text/plain": [
       "<Figure size 432x288 with 1 Axes>"
      ]
     },
     "metadata": {
      "needs_background": "light"
     },
     "output_type": "display_data"
    }
   ],
   "source": [
    "df.amount.groupby(df[\"extraction\"].dt.month).count().plot(kind=\"bar\")\n",
    "plt.ylabel(\"Freq\")"
   ]
  },
  {
   "cell_type": "code",
   "execution_count": 194,
   "metadata": {},
   "outputs": [
    {
     "data": {
      "text/plain": [
       "<matplotlib.axes._subplots.AxesSubplot at 0x7f3b70984690>"
      ]
     },
     "execution_count": 194,
     "metadata": {},
     "output_type": "execute_result"
    },
    {
     "data": {
      "image/png": "[encoded data removed]",
      "text/plain": [
       "<Figure size 432x288 with 1 Axes>"
      ]
     },
     "metadata": {
      "needs_background": "light"
     },
     "output_type": "display_data"
    }
   ],
   "source": [
    "df.amount.groupby(df[\"extraction\"].dt.week).count().plot(kind=\"bar\")"
   ]
  },
  {
   "cell_type": "code",
   "execution_count": 300,
   "metadata": {},
   "outputs": [
    {
     "data": {
      "image/png": "[encoded data removed]",
      "text/plain": [
       "<Figure size 720x720 with 1 Axes>"
      ]
     },
     "metadata": {
      "needs_background": "light"
     },
     "output_type": "display_data"
    }
   ],
   "source": [
    "plt.figure(figsize=(10, 10))\n",
    "df.amount.groupby(df[\"extraction\"].dt.day).count().plot(kind=\"bar\")\n",
    "plt.ylabel(\"Frequency\")\n",
    "plt.show()"
   ]
  },
  {
   "cell_type": "code",
   "execution_count": 225,
   "metadata": {},
   "outputs": [
    {
     "data": {
      "text/plain": [
       "<matplotlib.axes._subplots.AxesSubplot at 0x7f3b703e3d10>"
      ]
     },
     "execution_count": 225,
     "metadata": {},
     "output_type": "execute_result"
    },
    {
     "data": {
      "image/png": "[encoded data removed]",
      "text/plain": [
       "<Figure size 432x288 with 1 Axes>"
      ]
     },
     "metadata": {
      "needs_background": "light"
     },
     "output_type": "display_data"
    }
   ],
   "source": [
    "df.amount.groupby(df[\"extraction\"].dt.hour).count().plot(kind=\"bar\")"
   ]
  },
  {
   "cell_type": "code",
   "execution_count": 236,
   "metadata": {},
   "outputs": [
    {
     "data": {
      "text/plain": [
       "<matplotlib.axes._subplots.AxesSubplot at 0x7f3b70730610>"
      ]
     },
     "execution_count": 236,
     "metadata": {},
     "output_type": "execute_result"
    },
    {
     "data": {
      "image/png": "[encoded data removed]",
      "text/plain": [
       "<Figure size 432x288 with 1 Axes>"
      ]
     },
     "metadata": {
      "needs_background": "light"
     },
     "output_type": "display_data"
    }
   ],
   "source": [
    "df.groupby([df[\"extraction\"].dt.hour, df.txn_description]).size().unstack().plot(kind='bar', stacked=True)"
   ]
  },
  {
   "cell_type": "code",
   "execution_count": 301,
   "metadata": {},
   "outputs": [
    {
     "data": {
      "image/png": "[encoded data removed]",
      "text/plain": [
       "<Figure size 432x288 with 1 Axes>"
      ]
     },
     "metadata": {
      "needs_background": "light"
     },
     "output_type": "display_data"
    }
   ],
   "source": [
    "df.amount.groupby(df['merchant_state']).count().plot(kind=\"bar\")\n",
    "plt.ylabel(\"Frequency\")\n",
    "plt.show()"
   ]
  },
  {
   "cell_type": "code",
   "execution_count": 302,
   "metadata": {},
   "outputs": [
    {
     "data": {
      "text/plain": [
       "txn_description\n",
       "INTER BANK     742\n",
       "PAY/SALARY     883\n",
       "PAYMENT       2600\n",
       "PHONE BANK     101\n",
       "POS           3783\n",
       "SALES-POS     3934\n",
       "Name: amount, dtype: int64"
      ]
     },
     "execution_count": 302,
     "metadata": {},
     "output_type": "execute_result"
    }
   ],
   "source": [
    "df.amount.groupby(df['txn_description']).count()"
   ]
  },
  {
   "cell_type": "code",
   "execution_count": 312,
   "metadata": {},
   "outputs": [
    {
     "data": {
      "text/plain": [
       "(0, 100)"
      ]
     },
     "execution_count": 312,
     "metadata": {},
     "output_type": "execute_result"
    },
    {
     "data": {
      "image/png": "[encoded data removed]",
      "text/plain": [
       "<Figure size 432x288 with 1 Axes>"
      ]
     },
     "metadata": {
      "needs_background": "light"
     },
     "output_type": "display_data"
    }
   ],
   "source": [
    "df[df[\"txn_description\"]=='SALES-POS'].amount.plot.hist(bins=1000)\n",
    "plt.xlim(0, 100)\n"
   ]
  },
  {
   "cell_type": "code",
   "execution_count": 311,
   "metadata": {},
   "outputs": [
    {
     "data": {
      "text/plain": [
       "(0, 100)"
      ]
     },
     "execution_count": 311,
     "metadata": {},
     "output_type": "execute_result"
    },
    {
     "data": {
      "image/png": "[encoded data removed]",
      "text/plain": [
       "<Figure size 432x288 with 1 Axes>"
      ]
     },
     "metadata": {
      "needs_background": "light"
     },
     "output_type": "display_data"
    }
   ],
   "source": [
    "df[df[\"txn_description\"]=='POS'].amount.plot.hist(bins=1000)\n",
    "plt.xlim(0, 100)"
   ]
  },
  {
   "cell_type": "code",
   "execution_count": null,
   "metadata": {},
   "outputs": [],
   "source": []
  }
 ],
 "metadata": {
  "kernelspec": {
   "display_name": "Python 3",
   "language": "python",
   "name": "python3"
  },
  "language_info": {
   "codemirror_mode": {
    "name": "ipython",
    "version": 3
   },
   "file_extension": ".py",
   "mimetype": "text/x-python",
   "name": "python",
   "nbconvert_exporter": "python",
   "pygments_lexer": "ipython3",
   "version": "3.7.4"
  }
 },
 "nbformat": 4,
 "nbformat_minor": 4
}
